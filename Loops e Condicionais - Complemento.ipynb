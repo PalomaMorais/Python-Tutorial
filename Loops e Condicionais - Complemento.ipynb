{
 "cells": [
  {
   "cell_type": "markdown",
   "metadata": {},
   "source": [
    "# Loops e Condicionais\n",
    "\n",
    "Quando utilizando o `pandas`, sempre é preferível evitar o uso de loops. O pandas utiliza operações lineares para criar bancos de dados e a maior parte das tarefas pode ser feito sem nenhum loop. Contudo loops podem ser úteis em alguns casos.\n",
    "\n",
    "O loop mais comum no Python é o loop `for`. Esse loop vai varrer todo o conteú de uma lista fazendo a mesma operação para todos eles. "
   ]
  },
  {
   "cell_type": "code",
   "execution_count": 1,
   "metadata": {},
   "outputs": [
    {
     "name": "stdout",
     "output_type": "stream",
     "text": [
      "6\n",
      "7\n",
      "8\n",
      "9\n",
      "10\n"
     ]
    }
   ],
   "source": [
    "lista = [1,2,3,4,5]\n",
    "\n",
    "for numero in lista:\n",
    "    print(5+numero)"
   ]
  },
  {
   "cell_type": "markdown",
   "metadata": {},
   "source": [
    "Quando uma lista possui uma sequencia de números é comum utilizar a função `range()` para definir o loop"
   ]
  },
  {
   "cell_type": "markdown",
   "metadata": {},
   "source": [
    "for numero in range(1,6):\n",
    "    print(5+numero)"
   ]
  },
  {
   "cell_type": "markdown",
   "metadata": {},
   "source": [
    "Podemos usar loops para criar uma lista também. primeiro criamos uma lista vazia `[]` e depois adicionamos cada um dos ítens a a partir da função `append()`"
   ]
  },
  {
   "cell_type": "code",
   "execution_count": 4,
   "metadata": {},
   "outputs": [
    {
     "data": {
      "text/plain": [
       "[1, 4, 9, 16, 25]"
      ]
     },
     "execution_count": 4,
     "metadata": {},
     "output_type": "execute_result"
    }
   ],
   "source": [
    "lista = [1,2,3,4,5]\n",
    "lista_ao_quadrado = []\n",
    "\n",
    "for n in lista:\n",
    "    lista_ao_quadrado.append(n**2)\n",
    "lista_ao_quadrado"
   ]
  },
  {
   "cell_type": "markdown",
   "metadata": {},
   "source": [
    "O python tem uma maneira mais direta de se fazer esse tipo de operação através de `list comprehensions`. Não vamos entrar em detalhes dessa estrutura aqui, mas a sintaxe é relativamente simples e intuitiva."
   ]
  },
  {
   "cell_type": "code",
   "execution_count": 8,
   "metadata": {},
   "outputs": [
    {
     "data": {
      "text/plain": [
       "[49, 64, 81, 100, 121]"
      ]
     },
     "execution_count": 8,
     "metadata": {},
     "output_type": "execute_result"
    }
   ],
   "source": [
    "lista = [7,8,9,10,11]\n",
    "lista_ao_quadrado = [n**2 for n in lista]\n",
    "\n",
    "lista_ao_quadrado"
   ]
  },
  {
   "cell_type": "markdown",
   "metadata": {},
   "source": [
    "Pode-se adicionar condicionais no loop for para gerar resultados mais complexos. Condicionais são expressões que só ocorrem se uma determinada condição ocorreu. Por exemplo no código abaixo, um valor só é elevado ao quadrado e adicionado à lista se for maior que **2**"
   ]
  },
  {
   "cell_type": "code",
   "execution_count": 10,
   "metadata": {},
   "outputs": [
    {
     "data": {
      "text/plain": [
       "[9, 16, 25]"
      ]
     },
     "execution_count": 10,
     "metadata": {},
     "output_type": "execute_result"
    }
   ],
   "source": [
    "lista = [1,2,3,4,5]\n",
    "lista_ao_quadrado = []\n",
    "\n",
    "for n in lista:\n",
    "    if n>2:\n",
    "        lista_ao_quadrado.append(n**2)\n",
    "lista_ao_quadrado"
   ]
  },
  {
   "cell_type": "markdown",
   "metadata": {},
   "source": [
    "`list comprehension` também suportam condicionais:"
   ]
  },
  {
   "cell_type": "code",
   "execution_count": 11,
   "metadata": {},
   "outputs": [
    {
     "data": {
      "text/plain": [
       "[49, 64, 81]"
      ]
     },
     "execution_count": 11,
     "metadata": {},
     "output_type": "execute_result"
    }
   ],
   "source": [
    "lista = [7,8,9,10,11]\n",
    "lista_ao_quadrado = [n**2 for n in lista if n < 10]\n",
    "\n",
    "lista_ao_quadrado"
   ]
  },
  {
   "cell_type": "markdown",
   "metadata": {},
   "source": [
    "Quando existem muitas condições, pode-se usar os condicionais elif e else"
   ]
  },
  {
   "cell_type": "code",
   "execution_count": 14,
   "metadata": {},
   "outputs": [
    {
     "data": {
      "text/plain": [
       "[1, 2, 9, 16, 125]"
      ]
     },
     "execution_count": 14,
     "metadata": {},
     "output_type": "execute_result"
    }
   ],
   "source": [
    "lista = [1,2,3,4,5]\n",
    "lista_ao_quadrado = []\n",
    "\n",
    "for n in lista:\n",
    "    if n <= 2:\n",
    "        lista_ao_quadrado.append(n)\n",
    "    elif n>2 and n<5:\n",
    "        lista_ao_quadrado.append(n**2)\n",
    "    else:\n",
    "        lista_ao_quadrado.append(n**3)\n",
    "        \n",
    "lista_ao_quadrado"
   ]
  },
  {
   "cell_type": "markdown",
   "metadata": {},
   "source": [
    "List comprehensions suportam `else`, mas em geral um loop `for` é mais legível quando existe um `else` List comprehensions não suportam `elif`."
   ]
  }
 ],
 "metadata": {
  "kernelspec": {
   "display_name": "Python 3",
   "language": "python",
   "name": "python3"
  },
  "language_info": {
   "codemirror_mode": {
    "name": "ipython",
    "version": 3
   },
   "file_extension": ".py",
   "mimetype": "text/x-python",
   "name": "python",
   "nbconvert_exporter": "python",
   "pygments_lexer": "ipython3",
   "version": "3.6.5"
  }
 },
 "nbformat": 4,
 "nbformat_minor": 2
}
