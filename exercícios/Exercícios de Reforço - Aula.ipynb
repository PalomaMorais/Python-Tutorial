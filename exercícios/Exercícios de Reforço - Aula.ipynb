{
 "cells": [
  {
   "cell_type": "markdown",
   "metadata": {},
   "source": [
    "# Exercícios para reforço - Python\n",
    "\n",
    "Primeiramente, rode a célula a seguir (`ctrl + enter`) para que seus gráficos sejam plotados na linha "
   ]
  },
  {
   "cell_type": "code",
   "execution_count": 16,
   "metadata": {},
   "outputs": [],
   "source": [
    "%matplotlib inline"
   ]
  },
  {
   "cell_type": "markdown",
   "metadata": {},
   "source": [
    "### 1. Na célula abaixo, importe a biblioteca pandas e a biblioteca seaborn"
   ]
  },
  {
   "cell_type": "code",
   "execution_count": null,
   "metadata": {},
   "outputs": [],
   "source": []
  },
  {
   "cell_type": "markdown",
   "metadata": {},
   "source": [
    "### 2. Na célula abaixo, carregue o arquivo `iris.csv` com o comando `read_csv` do pandas e armazene esse banco de dados em uma váriável de nome `df`.\n",
    "\n",
    "**Atenção ao separador nesse arquivo que é uma vírgula `,` e não `;`**\n",
    "\n",
    "Esse banco de dados contém as colunas:\n",
    "\n",
    "sep_compr: Comprimento da Sépala da Flor\n",
    "\n",
    "sep_larg: Largura da Sépala da Flor\n",
    "\n",
    "pet_compr: Comprimento da Pétala da Flor\n",
    "\n",
    "pet_larg: Largura da Pétala da Flor\n",
    "\n",
    "tipo: Espécie da flor"
   ]
  },
  {
   "cell_type": "code",
   "execution_count": null,
   "metadata": {},
   "outputs": [],
   "source": []
  },
  {
   "cell_type": "markdown",
   "metadata": {},
   "source": [
    "### 3. Utilize o banco de dados `df` nas células abaixo para responder às seguintes perguntas sobre o **comprimento das pétalas** `pet_compr`:\n",
    "\n",
    "> Qual é o valor da média?\n",
    "\n",
    "> Qual é o valor do desvio padrão?\n",
    "\n",
    "> Qual é o valor da mediana?"
   ]
  },
  {
   "cell_type": "code",
   "execution_count": null,
   "metadata": {},
   "outputs": [],
   "source": [
    "#média\n"
   ]
  },
  {
   "cell_type": "code",
   "execution_count": null,
   "metadata": {},
   "outputs": [],
   "source": [
    "#desvio padrão\n"
   ]
  },
  {
   "cell_type": "code",
   "execution_count": null,
   "metadata": {},
   "outputs": [],
   "source": [
    "#mediana\n"
   ]
  },
  {
   "cell_type": "markdown",
   "metadata": {},
   "source": [
    "### 4. Na célula abaixo, faça uma análise descritiva completa do banco de dados utilizando uma função do `pandas`."
   ]
  },
  {
   "cell_type": "code",
   "execution_count": null,
   "metadata": {},
   "outputs": [],
   "source": []
  },
  {
   "cell_type": "markdown",
   "metadata": {},
   "source": [
    "### 5. Utilize filtros para fazer uma análise descritiva apenas para as flores da espécie `Iris-versicolor`.\n",
    "\n",
    "> *Dica: a função `describe()` pode ser aplicada em um banco de dados filtrado usando a linha de comando `df[filtro].describe()`*"
   ]
  },
  {
   "cell_type": "code",
   "execution_count": null,
   "metadata": {},
   "outputs": [],
   "source": []
  },
  {
   "cell_type": "markdown",
   "metadata": {},
   "source": [
    "### 6. Faça um boxplot da largura das pétalas `pet_larg` para cada uma das três espécies."
   ]
  },
  {
   "cell_type": "code",
   "execution_count": null,
   "metadata": {},
   "outputs": [],
   "source": []
  },
  {
   "cell_type": "markdown",
   "metadata": {},
   "source": [
    "### 7. Faça um histograma da propriedade largura da sépala `sep_larg`."
   ]
  },
  {
   "cell_type": "code",
   "execution_count": null,
   "metadata": {},
   "outputs": [],
   "source": []
  },
  {
   "cell_type": "markdown",
   "metadata": {},
   "source": [
    "### 8. Faça um histograma da largura de sépala `sep_larg` para cada tipo de flor.\n",
    "> *dica: a função `hist()` funciona para dataframes filtrados através de `df[filtro].hist()`*"
   ]
  },
  {
   "cell_type": "code",
   "execution_count": null,
   "metadata": {},
   "outputs": [],
   "source": [
    "#Iris-setosa\n"
   ]
  },
  {
   "cell_type": "code",
   "execution_count": null,
   "metadata": {},
   "outputs": [],
   "source": [
    "#Iris-versicolor\n"
   ]
  },
  {
   "cell_type": "code",
   "execution_count": null,
   "metadata": {},
   "outputs": [],
   "source": [
    "#Iris-virginica\n"
   ]
  },
  {
   "cell_type": "markdown",
   "metadata": {},
   "source": [
    "### 9. Utilizando a biblioteca seaborn, faça a matriz de gráficos de dispersão para todas as propriedades do banco de dados. Utilize o tipo de flor para colorir os pontos com a propriedade `hue`."
   ]
  },
  {
   "cell_type": "code",
   "execution_count": null,
   "metadata": {},
   "outputs": [],
   "source": []
  },
  {
   "cell_type": "markdown",
   "metadata": {},
   "source": [
    "### 10. Faça o gráfico de dispersão de comprimento de pétala `pet_larg` contra comprimento de sépala `sep_compr`  com uma linha de tendência para o intervalo de confiança de 99%\n",
    "> *Dica: use a função `regplot()` do `seaborn` e controle o interlvalo de confiança com o parâmetro `ci` fazendo `ci=99` *"
   ]
  },
  {
   "cell_type": "code",
   "execution_count": null,
   "metadata": {},
   "outputs": [],
   "source": []
  },
  {
   "cell_type": "markdown",
   "metadata": {},
   "source": [
    "### 11. Insira os histogramas das variáveis nas bordas do gráfico anterior. \n",
    "> dica: use `jointplot()` do seaborn com `kind='reg'`"
   ]
  },
  {
   "cell_type": "code",
   "execution_count": null,
   "metadata": {},
   "outputs": [],
   "source": []
  },
  {
   "cell_type": "markdown",
   "metadata": {},
   "source": [
    "## 12. Faça um mapa de calor da matriz de correlação do banco de dados. Utilize o mapa de cores (`cmap`) de azuis e vermelhos (`RdBu`)."
   ]
  },
  {
   "cell_type": "code",
   "execution_count": null,
   "metadata": {},
   "outputs": [],
   "source": []
  }
 ],
 "metadata": {
  "kernelspec": {
   "display_name": "Python 3",
   "language": "python",
   "name": "python3"
  },
  "language_info": {
   "codemirror_mode": {
    "name": "ipython",
    "version": 3
   },
   "file_extension": ".py",
   "mimetype": "text/x-python",
   "name": "python",
   "nbconvert_exporter": "python",
   "pygments_lexer": "ipython3",
   "version": "3.6.5"
  }
 },
 "nbformat": 4,
 "nbformat_minor": 2
}
